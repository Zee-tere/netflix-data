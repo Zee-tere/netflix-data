{
 "cells": [
  {
   "cell_type": "code",
   "execution_count": 18,
   "id": "2059263a-7fa0-4a73-adcb-fb97e9ce2ab7",
   "metadata": {},
   "outputs": [],
   "source": [
    "import pandas as pd\n",
    "import numpy as np\n",
    "import seaborn as sns\n",
    "import matplotlib.pyplot as plt"
   ]
  },
  {
   "cell_type": "code",
   "execution_count": 19,
   "id": "cf82e47c-6359-49eb-b704-55bb333f4554",
   "metadata": {},
   "outputs": [],
   "source": [
    "df = pd.read_csv(\"NetflixOriginals.csv\", encoding=\"ISO-8859-1\")"
   ]
  },
  {
   "cell_type": "code",
   "execution_count": 20,
   "id": "f27006f0-65d3-4afa-8dea-a538b1d066ed",
   "metadata": {},
   "outputs": [
    {
     "name": "stdout",
     "output_type": "stream",
     "text": [
      "<class 'pandas.core.frame.DataFrame'>\n",
      "RangeIndex: 584 entries, 0 to 583\n",
      "Data columns (total 6 columns):\n",
      " #   Column      Non-Null Count  Dtype  \n",
      "---  ------      --------------  -----  \n",
      " 0   Title       584 non-null    object \n",
      " 1   Genre       584 non-null    object \n",
      " 2   Premiere    584 non-null    object \n",
      " 3   Runtime     584 non-null    int64  \n",
      " 4   IMDB Score  584 non-null    float64\n",
      " 5   Language    584 non-null    object \n",
      "dtypes: float64(1), int64(1), object(4)\n",
      "memory usage: 27.5+ KB\n"
     ]
    },
    {
     "data": {
      "text/html": [
       "<div>\n",
       "<style scoped>\n",
       "    .dataframe tbody tr th:only-of-type {\n",
       "        vertical-align: middle;\n",
       "    }\n",
       "\n",
       "    .dataframe tbody tr th {\n",
       "        vertical-align: top;\n",
       "    }\n",
       "\n",
       "    .dataframe thead th {\n",
       "        text-align: right;\n",
       "    }\n",
       "</style>\n",
       "<table border=\"1\" class=\"dataframe\">\n",
       "  <thead>\n",
       "    <tr style=\"text-align: right;\">\n",
       "      <th></th>\n",
       "      <th>Title</th>\n",
       "      <th>Genre</th>\n",
       "      <th>Premiere</th>\n",
       "      <th>Runtime</th>\n",
       "      <th>IMDB Score</th>\n",
       "      <th>Language</th>\n",
       "    </tr>\n",
       "  </thead>\n",
       "  <tbody>\n",
       "    <tr>\n",
       "      <th>0</th>\n",
       "      <td>Enter the Anime</td>\n",
       "      <td>Documentary</td>\n",
       "      <td>August 5, 2019</td>\n",
       "      <td>58</td>\n",
       "      <td>2.5</td>\n",
       "      <td>English/Japanese</td>\n",
       "    </tr>\n",
       "    <tr>\n",
       "      <th>1</th>\n",
       "      <td>Dark Forces</td>\n",
       "      <td>Thriller</td>\n",
       "      <td>August 21, 2020</td>\n",
       "      <td>81</td>\n",
       "      <td>2.6</td>\n",
       "      <td>Spanish</td>\n",
       "    </tr>\n",
       "    <tr>\n",
       "      <th>2</th>\n",
       "      <td>The App</td>\n",
       "      <td>Science fiction/Drama</td>\n",
       "      <td>December 26, 2019</td>\n",
       "      <td>79</td>\n",
       "      <td>2.6</td>\n",
       "      <td>Italian</td>\n",
       "    </tr>\n",
       "    <tr>\n",
       "      <th>3</th>\n",
       "      <td>The Open House</td>\n",
       "      <td>Horror thriller</td>\n",
       "      <td>January 19, 2018</td>\n",
       "      <td>94</td>\n",
       "      <td>3.2</td>\n",
       "      <td>English</td>\n",
       "    </tr>\n",
       "    <tr>\n",
       "      <th>4</th>\n",
       "      <td>Kaali Khuhi</td>\n",
       "      <td>Mystery</td>\n",
       "      <td>October 30, 2020</td>\n",
       "      <td>90</td>\n",
       "      <td>3.4</td>\n",
       "      <td>Hindi</td>\n",
       "    </tr>\n",
       "  </tbody>\n",
       "</table>\n",
       "</div>"
      ],
      "text/plain": [
       "             Title                  Genre           Premiere  Runtime  \\\n",
       "0  Enter the Anime            Documentary     August 5, 2019       58   \n",
       "1      Dark Forces               Thriller    August 21, 2020       81   \n",
       "2          The App  Science fiction/Drama  December 26, 2019       79   \n",
       "3   The Open House        Horror thriller   January 19, 2018       94   \n",
       "4      Kaali Khuhi                Mystery   October 30, 2020       90   \n",
       "\n",
       "   IMDB Score          Language  \n",
       "0         2.5  English/Japanese  \n",
       "1         2.6           Spanish  \n",
       "2         2.6           Italian  \n",
       "3         3.2           English  \n",
       "4         3.4             Hindi  "
      ]
     },
     "execution_count": 20,
     "metadata": {},
     "output_type": "execute_result"
    }
   ],
   "source": [
    "df.info()\n",
    "df.head()"
   ]
  },
  {
   "cell_type": "code",
   "execution_count": 21,
   "id": "85d78381-ec25-4ccf-9ebb-5d18695b2dcc",
   "metadata": {},
   "outputs": [
    {
     "name": "stdout",
     "output_type": "stream",
     "text": [
      "Missing values:\n",
      " Title         0\n",
      "Genre         0\n",
      "Premiere      0\n",
      "Runtime       0\n",
      "IMDB Score    0\n",
      "Language      0\n",
      "dtype: int64\n"
     ]
    }
   ],
   "source": [
    "missing_values = df.isnull().sum()\n",
    "print(\"Missing values:\\n\", missing_values)\n"
   ]
  },
  {
   "cell_type": "code",
   "execution_count": 22,
   "id": "e08e3455-94cd-420a-b821-70d5be7387cb",
   "metadata": {},
   "outputs": [
    {
     "name": "stdout",
     "output_type": "stream",
     "text": [
      "Number of duplicate rows: 0\n"
     ]
    }
   ],
   "source": [
    "duplicates = df.duplicated().sum()\n",
    "print(\"Number of duplicate rows:\", duplicates)\n",
    "if duplicates > 0:\n",
    "    df.drop_duplicates(inplace=True)\n"
   ]
  },
  {
   "cell_type": "code",
   "execution_count": 23,
   "id": "6fa8b8c2-b25c-4598-8de7-ce0cebb0fa02",
   "metadata": {},
   "outputs": [
    {
     "name": "stdout",
     "output_type": "stream",
     "text": [
      "Updated Data Types:\n",
      " Title                 object\n",
      "Genre                 object\n",
      "Premiere      datetime64[ns]\n",
      "Runtime                int64\n",
      "IMDB Score           float64\n",
      "Language              object\n",
      "dtype: object\n"
     ]
    }
   ],
   "source": [
    "df['Premiere'] = pd.to_datetime(df['Premiere'], errors='coerce')\n",
    "print(\"Updated Data Types:\\n\", df.dtypes)\n"
   ]
  },
  {
   "cell_type": "code",
   "execution_count": 24,
   "id": "e3701bc3-f1be-4c32-9bb3-8d981071a7fe",
   "metadata": {},
   "outputs": [
    {
     "data": {
      "image/png": "[encoded data removed]",
      "text/plain": [
       "<Figure size 640x480 with 1 Axes>"
      ]
     },
     "metadata": {},
     "output_type": "display_data"
    }
   ],
   "source": [
    "sns.boxplot(x=df['Runtime'])\n",
    "plt.title(\"Boxplot of Movie Runtimes\")\n",
    "plt.show()\n"
   ]
  },
  {
   "cell_type": "code",
   "execution_count": 25,
   "id": "3dbb336e-d40c-48ca-b13c-07408146492e",
   "metadata": {},
   "outputs": [
    {
     "name": "stdout",
     "output_type": "stream",
     "text": [
      "Outliers:\n",
      "                                Title                Genre   Premiere  Runtime  \\\n",
      "5                              Drive               Action 2019-11-01      147   \n",
      "7    The Last Days of American Crime  Heist film/Thriller 2020-06-05      149   \n",
      "15                    After the Raid          Documentary 2019-12-19       25   \n",
      "16                     Ghost Stories     Horror anthology 2020-01-01      144   \n",
      "30                       After Maria          Documentary 2019-05-24       37   \n",
      "..                               ...                  ...        ...      ...   \n",
      "552                            Anima      Musical / Short 2019-06-27       15   \n",
      "560   If Anything Happens I Love You    Animation / Short 2020-11-20       12   \n",
      "561                     The Irishman          Crime drama 2019-11-27      209   \n",
      "577           Dancing with the Birds          Documentary 2019-10-23       51   \n",
      "581          Springsteen on Broadway         One-man show 2018-12-16      153   \n",
      "\n",
      "     IMDB Score         Language  \n",
      "5           3.5            Hindi  \n",
      "7           3.7          English  \n",
      "15          4.3          Spanish  \n",
      "16          4.3            Hindi  \n",
      "30          4.6  English/Spanish  \n",
      "..          ...              ...  \n",
      "552         7.7          English  \n",
      "560         7.8          English  \n",
      "561         7.8          English  \n",
      "577         8.3          English  \n",
      "581         8.5          English  \n",
      "\n",
      "[75 rows x 6 columns]\n"
     ]
    }
   ],
   "source": [
    "Q1 = df['Runtime'].quantile(0.25)\n",
    "Q3 = df['Runtime'].quantile(0.75)\n",
    "IQR = Q3 - Q1\n",
    "lower_bound = Q1 - 1.5 * IQR\n",
    "upper_bound = Q3 + 1.5 * IQR\n",
    "outliers = df[(df['Runtime'] < lower_bound) | (df['Runtime'] > upper_bound)]\n",
    "print(\"Outliers:\\n\", outliers)\n"
   ]
  },
  {
   "cell_type": "code",
   "execution_count": 26,
   "id": "a6676577-7a4b-4c25-acaa-fecd39c59a37",
   "metadata": {},
   "outputs": [],
   "source": [
    "df = df[(df['Runtime'] >= lower_bound) & (df['Runtime'] <= upper_bound)]\n"
   ]
  },
  {
   "cell_type": "code",
   "execution_count": 27,
   "id": "122e8404-4a65-444f-a22c-45ebbb289570",
   "metadata": {},
   "outputs": [],
   "source": [
    "df['Genre'] = df['Genre'].str.strip().str.title()\n",
    "df['Language'] = df['Language'].str.strip().str.title()"
   ]
  },
  {
   "cell_type": "code",
   "execution_count": 28,
   "id": "05eb6de9-e474-4676-a3b3-44b11e0e7c56",
   "metadata": {},
   "outputs": [],
   "source": [
    "# Feature Engineering\n",
    "# Extract release year and Categorize by decade\n",
    "\n",
    "df['Release Year'] = df['Premiere'].dt.year\n",
    "df['Decade'] = (df['Release Year'] // 10) * 10"
   ]
  },
  {
   "cell_type": "code",
   "execution_count": 29,
   "id": "42bd19b3-c57a-4960-9eaa-868be8426e58",
   "metadata": {},
   "outputs": [],
   "source": [
    "def categorize_imdb(score):\n",
    "    if score < 4.0:\n",
    "        return \"Low\"\n",
    "    elif 4.0 <= score < 7.0:\n",
    "        return \"Average\"\n",
    "    else:\n",
    "        return \"High\"\n",
    "df['IMDB Category'] = df['IMDB Score'].apply(categorize_imdb)"
   ]
  },
  {
   "cell_type": "code",
   "execution_count": 30,
   "id": "5219d732-6ab9-48fc-964e-cbf44ef2c7c2",
   "metadata": {},
   "outputs": [],
   "source": [
    "df['Language Group'] = df['Language'].apply(lambda x: 'English' if 'English' in x else 'Non-English')\n"
   ]
  },
  {
   "cell_type": "code",
   "execution_count": 31,
   "id": "a164db00-8ffb-4061-a459-051492eeb059",
   "metadata": {},
   "outputs": [],
   "source": [
    "# Grouping genres into broader categories\n",
    "\n",
    "def categorize_genre(genre):\n",
    "    if 'Drama' in genre or 'Romance' in genre:\n",
    "        return 'Drama/Romance'\n",
    "    elif 'Thriller' in genre or 'Horror' in genre:\n",
    "        return 'Thriller/Horror'\n",
    "    elif 'Comedy' in genre:\n",
    "        return 'Comedy'\n",
    "    elif 'Documentary' in genre:\n",
    "        return 'Documentary'\n",
    "    elif 'Action' in genre or 'Adventure' in genre:\n",
    "        return 'Action/Adventure'\n",
    "    else:\n",
    "        return 'Other'\n",
    "df['Genre Group'] = df['Genre'].apply(categorize_genre)\n"
   ]
  },
  {
   "cell_type": "code",
   "execution_count": 32,
   "id": "74fc3f49-c3c0-4dee-ad76-68e5d5a10da7",
   "metadata": {},
   "outputs": [
    {
     "name": "stdout",
     "output_type": "stream",
     "text": [
      "Most common genres:\n",
      " Genre Group\n",
      "Drama/Romance       128\n",
      "Documentary         125\n",
      "Comedy              113\n",
      "Thriller/Horror      69\n",
      "Other                60\n",
      "Action/Adventure     14\n",
      "Name: count, dtype: int64\n"
     ]
    }
   ],
   "source": [
    "print(\"Most common genres:\\n\", df['Genre Group'].value_counts())\n"
   ]
  },
  {
   "cell_type": "code",
   "execution_count": 33,
   "id": "cda812dc-ee1d-42b5-b051-4ba980ef859e",
   "metadata": {},
   "outputs": [
    {
     "name": "stdout",
     "output_type": "stream",
     "text": [
      "Language distribution:\n",
      " Language Group\n",
      "English        361\n",
      "Non-English    148\n",
      "Name: count, dtype: int64\n"
     ]
    }
   ],
   "source": [
    "#(EDA)\n",
    "# Most common genres\n",
    "\n",
    "print(\"Language distribution:\\n\", df['Language Group'].value_counts())"
   ]
  },
  {
   "cell_type": "code",
   "execution_count": 34,
   "id": "cb829e93-dbe2-4a37-800a-19f327634035",
   "metadata": {},
   "outputs": [
    {
     "data": {
      "image/png": "[encoded data removed]",
      "text/plain": [
       "<Figure size 640x480 with 1 Axes>"
      ]
     },
     "metadata": {},
     "output_type": "display_data"
    }
   ],
   "source": [
    "# Trends in movie releases\n",
    "\n",
    "df.groupby('Release Year').size().plot(kind='bar', title='Number of Releases Per Year')\n",
    "plt.show()\n"
   ]
  },
  {
   "cell_type": "code",
   "execution_count": 35,
   "id": "adc9a27e-ddea-4fd3-934a-9b3ea719ab27",
   "metadata": {},
   "outputs": [
    {
     "data": {
      "image/png": "[encoded data removed]",
      "text/plain": [
       "<Figure size 640x480 with 1 Axes>"
      ]
     },
     "metadata": {},
     "output_type": "display_data"
    }
   ],
   "source": [
    "# Correlation between runtime and IMDB score\n",
    "sns.scatterplot(x=df['Runtime'], y=df['IMDB Score'])\n",
    "plt.title(\"Runtime vs IMDB Score\")\n",
    "plt.show()"
   ]
  },
  {
   "cell_type": "code",
   "execution_count": 36,
   "id": "0dc2c4be-c8d1-4517-8011-852be098c532",
   "metadata": {},
   "outputs": [],
   "source": [
    "# Split 'Language' into multiple rows\n",
    "df_lang = df.assign(Language=df['Language'].str.split('/')).explode('Language')\n",
    "\n",
    "# Split 'Genre' into multiple rows\n",
    "df_genre = df_lang.assign(Genre=df_lang['Genre'].str.split('/')).explode('Genre')\n",
    "\n",
    "# Split 'Genre Group' into multiple rows\n",
    "df_cleaned = df_genre.assign(Genre_Group=df_genre['Genre Group'].str.split('/')).explode('Genre Group')"
   ]
  },
  {
   "cell_type": "code",
   "execution_count": 39,
   "id": "1ca97125-ed64-4561-a407-67064b6b6c2d",
   "metadata": {},
   "outputs": [
    {
     "name": "stdout",
     "output_type": "stream",
     "text": [
      "Tuduunn!!\n"
     ]
    }
   ],
   "source": [
    "# Reset index\n",
    "df_cleaned = df_cleaned.reset_index(drop=True)\n",
    "\n",
    "# Save the cleaned dataset to a new CSV file\n",
    "df_cleaned.to_csv(\"NetflixOriginals_Cleaned_Final.csv\", index=False)\n",
    "print(\"Tuduunn!!\")"
   ]
  }
 ],
 "metadata": {
  "kernelspec": {
   "display_name": "Python 3 (ipykernel)",
   "language": "python",
   "name": "python3"
  },
  "language_info": {
   "codemirror_mode": {
    "name": "ipython",
    "version": 3
   },
   "file_extension": ".py",
   "mimetype": "text/x-python",
   "name": "python",
   "nbconvert_exporter": "python",
   "pygments_lexer": "ipython3",
   "version": "3.13.2"
  }
 },
 "nbformat": 4,
 "nbformat_minor": 5
}
